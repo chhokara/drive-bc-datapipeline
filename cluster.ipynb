{
 "cells": [
  {
   "cell_type": "code",
   "execution_count": 36,
   "metadata": {},
   "outputs": [],
   "source": [
    "import pandas as pd\n",
    "import ast\n",
    "\n",
    "df = pd.read_csv('Data/incidents_data.csv')"
   ]
  },
  {
   "cell_type": "code",
   "execution_count": 37,
   "metadata": {},
   "outputs": [],
   "source": [
    "# Preprocessing / Data Preparation\n",
    "df = df.dropna(subset=['geography.coordinates'])\n",
    "df = df[['geography.coordinates', 'event_type']]\n",
    "df['geography.coordinates'] = df['geography.coordinates'].apply(lambda x: ast.literal_eval(x) if isinstance(x, str) else x)\n",
    "df['geography.coordinates'] = df['geography.coordinates'].apply(lambda x: x[0] if isinstance(x, list) and len(x) > 0 and isinstance(x[0], list) else x)\n",
    "df[['longitude', 'latitude']] = pd.DataFrame(df['geography.coordinates'].tolist(), index=df.index)\n",
    "df = df.drop(['geography.coordinates'], axis=1)"
   ]
  },
  {
   "cell_type": "code",
   "execution_count": null,
   "metadata": {},
   "outputs": [
    {
     "data": {
      "text/plain": [
       "-1    40\n",
       " 0     2\n",
       " 1     2\n",
       " 2     2\n",
       " 3     2\n",
       " 4     2\n",
       "Name: cluster, dtype: int64"
      ]
     },
     "execution_count": 43,
     "metadata": {},
     "output_type": "execute_result"
    }
   ],
   "source": [
    "# Clustering\n",
    "from sklearn.cluster import DBSCAN\n",
    "import numpy as np\n",
    "\n",
    "coords = df[['latitude', 'longitude']].to_numpy()\n",
    "kms_per_radian = 6371.0088\n",
    "eps = 5 / kms_per_radian\n",
    "\n",
    "db = DBSCAN(eps=eps, min_samples=5, metric='haversine').fit(np.radians(coords))\n",
    "df['cluster'] = db.labels_\n",
    "df['cluster'].value_counts()"
   ]
  }
 ],
 "metadata": {
  "kernelspec": {
   "display_name": "Python 3",
   "language": "python",
   "name": "python3"
  },
  "language_info": {
   "codemirror_mode": {
    "name": "ipython",
    "version": 3
   },
   "file_extension": ".py",
   "mimetype": "text/x-python",
   "name": "python",
   "nbconvert_exporter": "python",
   "pygments_lexer": "ipython3",
   "version": "3.10.11"
  }
 },
 "nbformat": 4,
 "nbformat_minor": 2
}
